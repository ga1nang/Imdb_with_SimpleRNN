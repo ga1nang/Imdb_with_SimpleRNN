{
 "cells": [
  {
   "cell_type": "code",
   "execution_count": 1,
   "metadata": {},
   "outputs": [],
   "source": [
    "import numpy as np\n",
    "import tensorflow as tf\n",
    "from tensorflow.keras.datasets import imdb\n",
    "from tensorflow.keras.preprocessing.sequence import pad_sequences\n",
    "from tensorflow.keras.models import load_model"
   ]
  },
  {
   "cell_type": "code",
   "execution_count": 2,
   "metadata": {},
   "outputs": [
    {
     "name": "stdout",
     "output_type": "stream",
     "text": [
      "Downloading data from https://storage.googleapis.com/tensorflow/tf-keras-datasets/imdb_word_index.json\n",
      "\u001b[1m1641221/1641221\u001b[0m \u001b[32m━━━━━━━━━━━━━━━━━━━━\u001b[0m\u001b[37m\u001b[0m \u001b[1m2s\u001b[0m 2us/step\n"
     ]
    }
   ],
   "source": [
    "#load the imdb dataset word index\n",
    "word_index = imdb.get_word_index()\n",
    "reverse_word_index = {value: key for key, value in word_index.items()}"
   ]
  },
  {
   "cell_type": "code",
   "execution_count": 5,
   "metadata": {},
   "outputs": [
    {
     "name": "stderr",
     "output_type": "stream",
     "text": [
      "WARNING:absl:Compiled the loaded model, but the compiled metrics have yet to be built. `model.compile_metrics` will be empty until you train or evaluate the model.\n"
     ]
    },
    {
     "data": {
      "text/html": [
       "<pre style=\"white-space:pre;overflow-x:auto;line-height:normal;font-family:Menlo,'DejaVu Sans Mono',consolas,'Courier New',monospace\"><span style=\"font-weight: bold\">Model: \"sequential\"</span>\n",
       "</pre>\n"
      ],
      "text/plain": [
       "\u001b[1mModel: \"sequential\"\u001b[0m\n"
      ]
     },
     "metadata": {},
     "output_type": "display_data"
    },
    {
     "data": {
      "text/html": [
       "<pre style=\"white-space:pre;overflow-x:auto;line-height:normal;font-family:Menlo,'DejaVu Sans Mono',consolas,'Courier New',monospace\">┏━━━━━━━━━━━━━━━━━━━━━━━━━━━━━━━━━┳━━━━━━━━━━━━━━━━━━━━━━━━┳━━━━━━━━━━━━━━━┓\n",
       "┃<span style=\"font-weight: bold\"> Layer (type)                    </span>┃<span style=\"font-weight: bold\"> Output Shape           </span>┃<span style=\"font-weight: bold\">       Param # </span>┃\n",
       "┡━━━━━━━━━━━━━━━━━━━━━━━━━━━━━━━━━╇━━━━━━━━━━━━━━━━━━━━━━━━╇━━━━━━━━━━━━━━━┩\n",
       "│ embedding (<span style=\"color: #0087ff; text-decoration-color: #0087ff\">Embedding</span>)           │ (<span style=\"color: #00d7ff; text-decoration-color: #00d7ff\">None</span>, <span style=\"color: #00af00; text-decoration-color: #00af00\">500</span>, <span style=\"color: #00af00; text-decoration-color: #00af00\">128</span>)       │     <span style=\"color: #00af00; text-decoration-color: #00af00\">1,280,000</span> │\n",
       "├─────────────────────────────────┼────────────────────────┼───────────────┤\n",
       "│ simple_rnn (<span style=\"color: #0087ff; text-decoration-color: #0087ff\">SimpleRNN</span>)          │ (<span style=\"color: #00d7ff; text-decoration-color: #00d7ff\">None</span>, <span style=\"color: #00af00; text-decoration-color: #00af00\">128</span>)            │        <span style=\"color: #00af00; text-decoration-color: #00af00\">32,896</span> │\n",
       "├─────────────────────────────────┼────────────────────────┼───────────────┤\n",
       "│ dense (<span style=\"color: #0087ff; text-decoration-color: #0087ff\">Dense</span>)                   │ (<span style=\"color: #00d7ff; text-decoration-color: #00d7ff\">None</span>, <span style=\"color: #00af00; text-decoration-color: #00af00\">1</span>)              │           <span style=\"color: #00af00; text-decoration-color: #00af00\">129</span> │\n",
       "└─────────────────────────────────┴────────────────────────┴───────────────┘\n",
       "</pre>\n"
      ],
      "text/plain": [
       "┏━━━━━━━━━━━━━━━━━━━━━━━━━━━━━━━━━┳━━━━━━━━━━━━━━━━━━━━━━━━┳━━━━━━━━━━━━━━━┓\n",
       "┃\u001b[1m \u001b[0m\u001b[1mLayer (type)                   \u001b[0m\u001b[1m \u001b[0m┃\u001b[1m \u001b[0m\u001b[1mOutput Shape          \u001b[0m\u001b[1m \u001b[0m┃\u001b[1m \u001b[0m\u001b[1m      Param #\u001b[0m\u001b[1m \u001b[0m┃\n",
       "┡━━━━━━━━━━━━━━━━━━━━━━━━━━━━━━━━━╇━━━━━━━━━━━━━━━━━━━━━━━━╇━━━━━━━━━━━━━━━┩\n",
       "│ embedding (\u001b[38;5;33mEmbedding\u001b[0m)           │ (\u001b[38;5;45mNone\u001b[0m, \u001b[38;5;34m500\u001b[0m, \u001b[38;5;34m128\u001b[0m)       │     \u001b[38;5;34m1,280,000\u001b[0m │\n",
       "├─────────────────────────────────┼────────────────────────┼───────────────┤\n",
       "│ simple_rnn (\u001b[38;5;33mSimpleRNN\u001b[0m)          │ (\u001b[38;5;45mNone\u001b[0m, \u001b[38;5;34m128\u001b[0m)            │        \u001b[38;5;34m32,896\u001b[0m │\n",
       "├─────────────────────────────────┼────────────────────────┼───────────────┤\n",
       "│ dense (\u001b[38;5;33mDense\u001b[0m)                   │ (\u001b[38;5;45mNone\u001b[0m, \u001b[38;5;34m1\u001b[0m)              │           \u001b[38;5;34m129\u001b[0m │\n",
       "└─────────────────────────────────┴────────────────────────┴───────────────┘\n"
      ]
     },
     "metadata": {},
     "output_type": "display_data"
    },
    {
     "data": {
      "text/html": [
       "<pre style=\"white-space:pre;overflow-x:auto;line-height:normal;font-family:Menlo,'DejaVu Sans Mono',consolas,'Courier New',monospace\"><span style=\"font-weight: bold\"> Total params: </span><span style=\"color: #00af00; text-decoration-color: #00af00\">1,313,027</span> (5.01 MB)\n",
       "</pre>\n"
      ],
      "text/plain": [
       "\u001b[1m Total params: \u001b[0m\u001b[38;5;34m1,313,027\u001b[0m (5.01 MB)\n"
      ]
     },
     "metadata": {},
     "output_type": "display_data"
    },
    {
     "data": {
      "text/html": [
       "<pre style=\"white-space:pre;overflow-x:auto;line-height:normal;font-family:Menlo,'DejaVu Sans Mono',consolas,'Courier New',monospace\"><span style=\"font-weight: bold\"> Trainable params: </span><span style=\"color: #00af00; text-decoration-color: #00af00\">1,313,025</span> (5.01 MB)\n",
       "</pre>\n"
      ],
      "text/plain": [
       "\u001b[1m Trainable params: \u001b[0m\u001b[38;5;34m1,313,025\u001b[0m (5.01 MB)\n"
      ]
     },
     "metadata": {},
     "output_type": "display_data"
    },
    {
     "data": {
      "text/html": [
       "<pre style=\"white-space:pre;overflow-x:auto;line-height:normal;font-family:Menlo,'DejaVu Sans Mono',consolas,'Courier New',monospace\"><span style=\"font-weight: bold\"> Non-trainable params: </span><span style=\"color: #00af00; text-decoration-color: #00af00\">0</span> (0.00 B)\n",
       "</pre>\n"
      ],
      "text/plain": [
       "\u001b[1m Non-trainable params: \u001b[0m\u001b[38;5;34m0\u001b[0m (0.00 B)\n"
      ]
     },
     "metadata": {},
     "output_type": "display_data"
    },
    {
     "data": {
      "text/html": [
       "<pre style=\"white-space:pre;overflow-x:auto;line-height:normal;font-family:Menlo,'DejaVu Sans Mono',consolas,'Courier New',monospace\"><span style=\"font-weight: bold\"> Optimizer params: </span><span style=\"color: #00af00; text-decoration-color: #00af00\">2</span> (12.00 B)\n",
       "</pre>\n"
      ],
      "text/plain": [
       "\u001b[1m Optimizer params: \u001b[0m\u001b[38;5;34m2\u001b[0m (12.00 B)\n"
      ]
     },
     "metadata": {},
     "output_type": "display_data"
    }
   ],
   "source": [
    "model = load_model('E:/data_scien/course/Complete_genai_langchain_huggingface/learn/SimpleRnn_project/model/simple_rnn_imdb.h5')\n",
    "model.summary()"
   ]
  },
  {
   "cell_type": "code",
   "execution_count": 6,
   "metadata": {},
   "outputs": [
    {
     "data": {
      "text/plain": [
       "[array([[ 0.072554  , -0.02103155, -0.30522093, ...,  0.10776983,\n",
       "          0.0294003 ,  0.15319046],\n",
       "        [ 0.02676979,  0.00767209,  0.04552663, ..., -0.02322772,\n",
       "         -0.05136564,  0.01574238],\n",
       "        [-0.00921139, -0.0487659 ,  0.05444916, ...,  0.06987845,\n",
       "          0.00581975, -0.00786979],\n",
       "        ...,\n",
       "        [ 0.05541291,  0.0382161 ,  0.02584454, ..., -0.04948243,\n",
       "         -0.05233141, -0.04051744],\n",
       "        [-0.05585734, -0.04482017,  0.04807825, ...,  0.0158761 ,\n",
       "         -0.04981196,  0.03732996],\n",
       "        [ 0.04012273,  0.01689012,  0.09037625, ..., -0.072501  ,\n",
       "         -0.03084626, -0.03158752]], dtype=float32),\n",
       " array([[-0.02330287,  0.14218876, -0.1068394 , ...,  0.07000078,\n",
       "         -0.04608303,  0.01887261],\n",
       "        [ 0.11475622, -0.1504614 ,  0.13080984, ...,  0.10998784,\n",
       "         -0.01602471,  0.01563199],\n",
       "        [ 0.14476451,  0.13389952, -0.03988875, ...,  0.10537144,\n",
       "          0.09676341,  0.05920246],\n",
       "        ...,\n",
       "        [-0.12110572,  0.04088065,  0.14237824, ...,  0.07791623,\n",
       "         -0.03288516,  0.08925169],\n",
       "        [ 0.04069107, -0.01384696,  0.0905053 , ..., -0.06709203,\n",
       "          0.08453774,  0.04681832],\n",
       "        [ 0.04520934, -0.1411382 , -0.048169  , ...,  0.06632106,\n",
       "         -0.00660429,  0.08559767]], dtype=float32),\n",
       " array([[-0.00420556,  0.02738447, -0.06330992, ..., -0.03144215,\n",
       "         -0.17557749,  0.0198921 ],\n",
       "        [-0.06743333,  0.04739993, -0.03519094, ...,  0.07646315,\n",
       "          0.04740012, -0.00938603],\n",
       "        [ 0.17146258,  0.05161669, -0.05912517, ..., -0.10441252,\n",
       "         -0.04968345,  0.0633829 ],\n",
       "        ...,\n",
       "        [-0.09947728, -0.16721664,  0.03993507, ...,  0.03259365,\n",
       "         -0.03528169, -0.01745307],\n",
       "        [ 0.07300844, -0.12086247, -0.04552706, ...,  0.02534696,\n",
       "          0.05410219,  0.13841358],\n",
       "        [ 0.06013662,  0.22874992,  0.08371133, ...,  0.15571776,\n",
       "         -0.07064851, -0.00656787]], dtype=float32),\n",
       " array([-0.01912141, -0.02842243, -0.02731914,  0.01985791, -0.01304072,\n",
       "         0.01088173,  0.00955639, -0.00460628, -0.02752824, -0.01934863,\n",
       "        -0.02178778,  0.00448382,  0.02209114, -0.00367544, -0.00978992,\n",
       "        -0.02673591,  0.00793573,  0.00532105, -0.00844064, -0.00120612,\n",
       "         0.0117592 , -0.00321937,  0.01906261, -0.01990714, -0.01653887,\n",
       "         0.00857894, -0.01824537,  0.01283678, -0.02966641, -0.0107137 ,\n",
       "        -0.02022333, -0.01588279, -0.00804954,  0.01724708,  0.00282861,\n",
       "         0.0014637 , -0.0074105 , -0.01094894, -0.0058679 , -0.00614548,\n",
       "        -0.01113888,  0.0181297 , -0.02594629, -0.00178304,  0.0036255 ,\n",
       "         0.02982119, -0.00415278, -0.00868191, -0.01457009,  0.00135072,\n",
       "        -0.00739813,  0.01562795,  0.02638701, -0.00591007, -0.01477608,\n",
       "        -0.01801459, -0.01491187,  0.01658347,  0.01483401,  0.01624741,\n",
       "        -0.01250121,  0.00654904, -0.00940673, -0.01401708,  0.02529868,\n",
       "        -0.00846078, -0.00296933,  0.02628088, -0.03039493, -0.01700447,\n",
       "         0.01104988, -0.00287722, -0.0053073 ,  0.02720291, -0.00776038,\n",
       "        -0.00678406, -0.01923194,  0.01962219,  0.00249434,  0.00871061,\n",
       "        -0.01230954,  0.01486644, -0.00447122, -0.00689749,  0.00503609,\n",
       "         0.02005923, -0.02774333, -0.01381988, -0.00277049, -0.00714194,\n",
       "        -0.02172533,  0.00659174, -0.01606445,  0.00422084,  0.00801389,\n",
       "         0.01091592, -0.00828227,  0.0168457 ,  0.02666185, -0.00964648,\n",
       "        -0.0055779 , -0.01328326, -0.01172057,  0.02317099,  0.01418433,\n",
       "         0.01994222,  0.00184817, -0.00464479, -0.00610205, -0.00970539,\n",
       "        -0.01123596, -0.00827116, -0.00818609, -0.00687183,  0.00383068,\n",
       "         0.12459529,  0.02433866,  0.01968996,  0.01432308, -0.01501096,\n",
       "         0.00523472,  0.00487716, -0.01161779, -0.01767437, -0.01507244,\n",
       "         0.01712024, -0.02191754,  0.02106294], dtype=float32),\n",
       " array([[ 0.16598104],\n",
       "        [-0.01519003],\n",
       "        [ 0.03236381],\n",
       "        [ 0.18150106],\n",
       "        [-0.21812989],\n",
       "        [-0.02858668],\n",
       "        [ 0.14068642],\n",
       "        [-0.164176  ],\n",
       "        [-0.04144229],\n",
       "        [-0.3020621 ],\n",
       "        [ 0.08586638],\n",
       "        [ 0.19515146],\n",
       "        [ 0.20899029],\n",
       "        [-0.08041105],\n",
       "        [-0.07803784],\n",
       "        [-0.10595623],\n",
       "        [ 0.17626414],\n",
       "        [-0.45346284],\n",
       "        [-0.0117949 ],\n",
       "        [ 0.17798598],\n",
       "        [-0.08269854],\n",
       "        [ 0.22481722],\n",
       "        [ 0.15436848],\n",
       "        [ 0.08176255],\n",
       "        [-0.14942229],\n",
       "        [ 0.12363486],\n",
       "        [-0.18522856],\n",
       "        [-0.06985657],\n",
       "        [-0.00570961],\n",
       "        [-0.05613151],\n",
       "        [ 0.06847192],\n",
       "        [-0.22048494],\n",
       "        [ 0.12328732],\n",
       "        [ 0.5514221 ],\n",
       "        [ 0.11775559],\n",
       "        [-0.07916082],\n",
       "        [-0.18739164],\n",
       "        [-0.22888353],\n",
       "        [-0.16368404],\n",
       "        [-0.06001171],\n",
       "        [-0.07674422],\n",
       "        [ 0.17487973],\n",
       "        [-0.28678763],\n",
       "        [ 0.21162191],\n",
       "        [ 0.11105885],\n",
       "        [ 0.11519724],\n",
       "        [-0.0651994 ],\n",
       "        [-0.31275088],\n",
       "        [ 0.13214992],\n",
       "        [ 0.05531188],\n",
       "        [ 0.10412782],\n",
       "        [-0.0078998 ],\n",
       "        [ 0.11000758],\n",
       "        [-0.1986035 ],\n",
       "        [-0.0229701 ],\n",
       "        [ 0.08515062],\n",
       "        [ 0.06233091],\n",
       "        [-0.3456595 ],\n",
       "        [ 0.21503474],\n",
       "        [ 0.19966364],\n",
       "        [ 0.16823159],\n",
       "        [-0.10004447],\n",
       "        [-0.03961248],\n",
       "        [ 0.15188473],\n",
       "        [ 0.12437082],\n",
       "        [-0.04720673],\n",
       "        [-0.01352555],\n",
       "        [ 0.0622916 ],\n",
       "        [-0.15662709],\n",
       "        [-0.2422072 ],\n",
       "        [ 0.14799225],\n",
       "        [ 0.17606217],\n",
       "        [-0.12255995],\n",
       "        [ 0.09114897],\n",
       "        [-0.18314958],\n",
       "        [-0.11404524],\n",
       "        [ 0.17080292],\n",
       "        [ 0.1082973 ],\n",
       "        [ 0.14152196],\n",
       "        [-0.17686416],\n",
       "        [ 0.06839855],\n",
       "        [ 0.16326691],\n",
       "        [ 0.03448277],\n",
       "        [-0.12755129],\n",
       "        [-0.17558362],\n",
       "        [ 0.18306139],\n",
       "        [-0.12641065],\n",
       "        [-0.15610895],\n",
       "        [ 0.03067858],\n",
       "        [-0.2060804 ],\n",
       "        [ 0.0402832 ],\n",
       "        [ 0.11772394],\n",
       "        [ 0.02546279],\n",
       "        [-0.0862142 ],\n",
       "        [-0.00814153],\n",
       "        [-0.0585627 ],\n",
       "        [ 0.09779697],\n",
       "        [ 0.04007183],\n",
       "        [ 0.13187328],\n",
       "        [-0.58160645],\n",
       "        [-0.11677539],\n",
       "        [-0.15239355],\n",
       "        [ 0.08883994],\n",
       "        [ 0.2094512 ],\n",
       "        [-0.3351783 ],\n",
       "        [-0.09409739],\n",
       "        [ 0.06592516],\n",
       "        [-0.12270373],\n",
       "        [-0.08791183],\n",
       "        [-0.04354751],\n",
       "        [-0.16723277],\n",
       "        [ 0.14428654],\n",
       "        [ 0.04074964],\n",
       "        [ 0.08644797],\n",
       "        [-0.10389549],\n",
       "        [-0.27583095],\n",
       "        [-0.1516215 ],\n",
       "        [ 0.20413841],\n",
       "        [ 0.45021564],\n",
       "        [-0.46907178],\n",
       "        [-0.08833434],\n",
       "        [ 0.10584634],\n",
       "        [-0.1089495 ],\n",
       "        [-0.5189997 ],\n",
       "        [-0.00740521],\n",
       "        [-0.05057465],\n",
       "        [-0.09136935],\n",
       "        [ 0.19827297]], dtype=float32),\n",
       " array([-0.11346374], dtype=float32)]"
      ]
     },
     "execution_count": 6,
     "metadata": {},
     "output_type": "execute_result"
    }
   ],
   "source": [
    "model.get_weights()"
   ]
  },
  {
   "cell_type": "code",
   "execution_count": 10,
   "metadata": {},
   "outputs": [],
   "source": [
    "#Helper function\n",
    "def decode_review(encoded_review):\n",
    "    return ' '.join([reverse_word_index.get(i-3, '?') for i in encoded_review])\n",
    "\n",
    "\n",
    "def preprocess_text(text):\n",
    "    words = text.lower().split()\n",
    "    encoded_review = [word_index.get(word, 2) + 3 for word in words]\n",
    "    padded_review = pad_sequences([encoded_review], maxlen=500)\n",
    "    return padded_review"
   ]
  },
  {
   "cell_type": "code",
   "execution_count": 11,
   "metadata": {},
   "outputs": [],
   "source": [
    "def predict_sentiment(review):\n",
    "    preprocessed_input = preprocess_text(review)\n",
    "    \n",
    "    prediction = model.predict(preprocessed_input)\n",
    "    sentiment = 'Positive' if prediction[0][0] > 0.5 else 'Negative'\n",
    "    \n",
    "    return sentiment, prediction"
   ]
  },
  {
   "cell_type": "code",
   "execution_count": 12,
   "metadata": {},
   "outputs": [
    {
     "name": "stdout",
     "output_type": "stream",
     "text": [
      "\u001b[1m1/1\u001b[0m \u001b[32m━━━━━━━━━━━━━━━━━━━━\u001b[0m\u001b[37m\u001b[0m \u001b[1m0s\u001b[0m 23ms/step\n",
      "Review: This movie was fantastic! The acting was great and the plot was thrilling.\n",
      "Sentiment: Negative\n",
      "Prediction Score: [[0.04062742]]\n"
     ]
    }
   ],
   "source": [
    "example_review = \"This movie was fantastic! The acting was great and the plot was thrilling.\"\n",
    "\n",
    "sentiment,score=predict_sentiment(example_review)\n",
    "\n",
    "print(f'Review: {example_review}')\n",
    "print(f'Sentiment: {sentiment}')\n",
    "print(f'Prediction Score: {score}')"
   ]
  }
 ],
 "metadata": {
  "kernelspec": {
   "display_name": "base",
   "language": "python",
   "name": "python3"
  },
  "language_info": {
   "codemirror_mode": {
    "name": "ipython",
    "version": 3
   },
   "file_extension": ".py",
   "mimetype": "text/x-python",
   "name": "python",
   "nbconvert_exporter": "python",
   "pygments_lexer": "ipython3",
   "version": "3.12.4"
  }
 },
 "nbformat": 4,
 "nbformat_minor": 2
}
